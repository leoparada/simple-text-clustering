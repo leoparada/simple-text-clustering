{
 "cells": [
  {
   "cell_type": "code",
   "execution_count": null,
   "metadata": {
    "collapsed": false
   },
   "outputs": [],
   "source": [
    "#TEXT CLUSTERING ANALYSIS\n",
    "#TWO ALGOTIHMS: 1) SIMPLE BAG OF WORDS K-MEANS, 2)lATENT DIRICHLET ALLOCATION \n",
    "#DATA: THOMSON REUTERS TEXT RESEARCH COLLECTION \"TRC2\" (CORPUS OF 1,800,370 NEWS STORIES)\n",
    "\n",
    "from time import time\n",
    "import pandas as pd\n",
    "import numpy as np\n",
    "import re\n",
    "import nltk\n",
    "from sklearn.feature_extraction.text import TfidfVectorizer\n",
    "from sklearn.cluster import KMeans\n",
    "%matplotlib inline\n",
    "from sklearn import metrics\n",
    "import matplotlib.pyplot as plt\n",
    "from nltk.stem.porter import  PorterStemmer\n",
    "from scipy.spatial.distance import euclidean\n",
    "from sklearn.decomposition import LatentDirichletAllocation\n",
    "\n",
    "t0 = time()\n",
    "df_text = pd.read_csv('./trc2.csv', error_bad_lines=False)\n",
    "print(\"done in %0.3fs.\" % (time() - t0))\n"
   ]
  },
  {
   "cell_type": "code",
   "execution_count": 2,
   "metadata": {
    "collapsed": false,
    "scrolled": true
   },
   "outputs": [
    {
     "name": "stdout",
     "output_type": "stream",
     "text": [
      "(500000, 3)\n"
     ]
    },
    {
     "data": {
      "text/html": [
       "<div>\n",
       "<table border=\"1\" class=\"dataframe\">\n",
       "  <thead>\n",
       "    <tr style=\"text-align: right;\">\n",
       "      <th></th>\n",
       "      <th>msg_dt</th>\n",
       "      <th>message</th>\n",
       "      <th>story_text</th>\n",
       "    </tr>\n",
       "  </thead>\n",
       "  <tbody>\n",
       "    <tr>\n",
       "      <th>0</th>\n",
       "      <td>2008-01-01 00:00:03</td>\n",
       "      <td>Reuters Canadian dollar Eurobond new issue index</td>\n",
       "      <td>(Click on the Z-code in brackets to access dat...</td>\n",
       "    </tr>\n",
       "    <tr>\n",
       "      <th>1</th>\n",
       "      <td>2008-01-01 00:01:03</td>\n",
       "      <td>DIARY - Government Debt auctions to March 27, ...</td>\n",
       "      <td>For other related diaries, please see;   ...</td>\n",
       "    </tr>\n",
       "    <tr>\n",
       "      <th>2</th>\n",
       "      <td>2008-01-01 00:01:05</td>\n",
       "      <td>Reuters Sports Features Schedule at 0001 GMT T...</td>\n",
       "      <td>The following sports feature is available:...</td>\n",
       "    </tr>\n",
       "    <tr>\n",
       "      <th>3</th>\n",
       "      <td>2008-01-01 00:01:05</td>\n",
       "      <td>REITs hailed success, despite share price woes</td>\n",
       "      <td>By Jennifer Hill      LONDON, Jan 1 (Reute...</td>\n",
       "    </tr>\n",
       "    <tr>\n",
       "      <th>4</th>\n",
       "      <td>2008-01-01 00:01:07</td>\n",
       "      <td>Reuters sports schedule at 0001 GMT on Tuesday...</td>\n",
       "      <td>Jan 1 (Reuters) - Reuters sports schedule ...</td>\n",
       "    </tr>\n",
       "  </tbody>\n",
       "</table>\n",
       "</div>"
      ],
      "text/plain": [
       "                msg_dt                                            message  \\\n",
       "0  2008-01-01 00:00:03   Reuters Canadian dollar Eurobond new issue index   \n",
       "1  2008-01-01 00:01:03  DIARY - Government Debt auctions to March 27, ...   \n",
       "2  2008-01-01 00:01:05  Reuters Sports Features Schedule at 0001 GMT T...   \n",
       "3  2008-01-01 00:01:05     REITs hailed success, despite share price woes   \n",
       "4  2008-01-01 00:01:07  Reuters sports schedule at 0001 GMT on Tuesday...   \n",
       "\n",
       "                                          story_text  \n",
       "0  (Click on the Z-code in brackets to access dat...  \n",
       "1       For other related diaries, please see;   ...  \n",
       "2      The following sports feature is available:...  \n",
       "3      By Jennifer Hill      LONDON, Jan 1 (Reute...  \n",
       "4      Jan 1 (Reuters) - Reuters sports schedule ...  "
      ]
     },
     "execution_count": 2,
     "metadata": {},
     "output_type": "execute_result"
    }
   ],
   "source": [
    "N_samples = 500000  #Number of samples used\n",
    "df_text=df_text.dropna()\n",
    "df_text=df_text.iloc[0:N_samples,:]\n",
    "print(df_text.values.shape)\n",
    "df = df_text\n",
    "df.head()"
   ]
  },
  {
   "cell_type": "code",
   "execution_count": 3,
   "metadata": {
    "collapsed": false
   },
   "outputs": [
    {
     "name": "stdout",
     "output_type": "stream",
     "text": [
      "Preprocessor on Excerpt:l futuristic communications 961031 48 90 \n",
      "[nltk_data] Downloading package stopwords to /root/nltk_data...\n",
      "[nltk_data]   Package stopwords is already up-to-date!\n"
     ]
    }
   ],
   "source": [
    "def preprocessor(text):\n",
    "    text = re.sub('<[^>]*>', '', text)\n",
    "    emoticons = re.findall('(?::|;|=)(?:-)?(?:\\)|\\(|D|P)', text)\n",
    "    text = re.sub('[\\W]+', ' ', text.lower()) + ' '.join(emoticons).replace('-', '')\n",
    "    return text\n",
    "\n",
    "print('Preprocessor on Excerpt:%s' % preprocessor(df_text.loc[120, 'story_text'][-61:]))\n",
    "\n",
    "porter = PorterStemmer()\n",
    "def tokenizer_porter(text):\n",
    "    return[porter.stem(word) for word in text.split()]\n",
    "\n",
    "nltk.download('stopwords')\n",
    "from nltk.corpus import stopwords\n",
    "stop = stopwords.words('english')\n"
   ]
  },
  {
   "cell_type": "code",
   "execution_count": 4,
   "metadata": {
    "collapsed": false
   },
   "outputs": [],
   "source": [
    "df_text['message'] = df_text['message'].apply(preprocessor)\n",
    "df_text['story_text'] = df_text['story_text'].apply(preprocessor)\n",
    "X_text = (df_text['message'] + df_text['story_text']).values\n",
    "X = df_text.iloc[:,1:3].values"
   ]
  },
  {
   "cell_type": "code",
   "execution_count": 5,
   "metadata": {
    "collapsed": false
   },
   "outputs": [],
   "source": [
    "#DOCUMENTS ARE FILTERED BY A WORD. IN THIS CASE HEADERS THAT CONTAIN \"WAR\"\n",
    "X_word = []\n",
    "lis = []\n",
    "for i in range(0, N_samples-1, 1):\n",
    "    X_tok =  tokenizer_porter(X[i, 0])\n",
    "    for j in X_tok:\n",
    "        if j == 'war':                                ##WORD FILTERING\n",
    "            X_word = np.append(X_word, X_text[i])\n",
    "            lis.append(i)\n",
    "X_train = X_word"
   ]
  },
  {
   "cell_type": "code",
   "execution_count": 6,
   "metadata": {
    "collapsed": false
   },
   "outputs": [],
   "source": [
    "tfidf = TfidfVectorizer(strip_accents=None, lowercase=False, preprocessor=None, tokenizer=tokenizer_porter, stop_words=stop)\n",
    "tok = tfidf.fit_transform(X_train)"
   ]
  },
  {
   "cell_type": "code",
   "execution_count": 8,
   "metadata": {
    "collapsed": false
   },
   "outputs": [
    {
     "data": {
      "text/plain": [
       "<matplotlib.text.Text at 0x7f7e7c4b1510>"
      ]
     },
     "execution_count": 8,
     "metadata": {},
     "output_type": "execute_result"
    },
    {
     "data": {
      "image/png": "[encoded data removed]",
      "text/plain": [
       "<matplotlib.figure.Figure at 0x7f7e9948bcd0>"
      ]
     },
     "metadata": {},
     "output_type": "display_data"
    }
   ],
   "source": [
    "distortions = []\n",
    "silh = []\n",
    "for i in range(2, 15, 1):\n",
    "    km = KMeans(n_clusters=i, init='k-means++', n_init=10, max_iter=300, random_state=0)\n",
    "    km.fit(tok)\n",
    "    distortions.append(km.inertia_)\n",
    "    silh.append(metrics.silhouette_score(tok, km.labels_, sample_size=1000))\n",
    "    \n",
    "plt.plot(range(2, 15, 1), distortions, marker='o')\n",
    "plt.title('Elbow plot')\n",
    "plt.xlabel('N clusters')\n",
    "plt.ylabel('Inertia (Within cluster SSE)')"
   ]
  },
  {
   "cell_type": "code",
   "execution_count": 9,
   "metadata": {
    "collapsed": false
   },
   "outputs": [
    {
     "data": {
      "text/plain": [
       "<matplotlib.text.Text at 0x7f7e7c44c2d0>"
      ]
     },
     "execution_count": 9,
     "metadata": {},
     "output_type": "execute_result"
    },
    {
     "data": {
      "image/png": "[encoded data removed]",
      "text/plain": [
       "<matplotlib.figure.Figure at 0x7f7e90605290>"
      ]
     },
     "metadata": {},
     "output_type": "display_data"
    }
   ],
   "source": [
    "plt.plot(range(2, 15, 1), silh, marker='o',color='green')\n",
    "plt.title('Silhouette coefficient')\n",
    "plt.xlabel('N clusters')\n",
    "plt.ylabel('Silhouette coefficient')"
   ]
  },
  {
   "cell_type": "markdown",
   "metadata": {},
   "source": []
  },
  {
   "cell_type": "code",
   "execution_count": 10,
   "metadata": {
    "collapsed": false
   },
   "outputs": [
    {
     "data": {
      "text/plain": [
       "array([228,  19,  24,  38,  23,  22,  11,  13,  20,  52,  12,  15])"
      ]
     },
     "execution_count": 10,
     "metadata": {},
     "output_type": "execute_result"
    }
   ],
   "source": [
    "km = KMeans(n_clusters=12, init='k-means++', n_init=10, max_iter=300, tol=1e-04, random_state=0)\n",
    "tok = tfidf.fit_transform(X_train)\n",
    "y_km = km.fit_predict(tok)\n",
    "np.bincount(y_km)"
   ]
  },
  {
   "cell_type": "code",
   "execution_count": 11,
   "metadata": {
    "collapsed": false
   },
   "outputs": [
    {
     "name": "stdout",
     "output_type": "stream",
     "text": [
      "Top 5 headers cluster 1: \n",
      "\n",
      "analysis bush wins war over iraq war in washington\n",
      "analysis bush wins war over iraq war in washington\n",
      "factbox iraq war five years on in facts and figures\n",
      "factbox iraq war five years on in facts and figures\n",
      "u s war costs in iraq up budget report\n",
      "\n",
      "\n",
      "Top 5 headers cluster 2: \n",
      "\n",
      "update 7 pressure eases on olmert after lebanon war report\n",
      "update 5 israel inquiry finds grave failings on war\n",
      "update 6 israel war inquiry gives pm qualified backing\n",
      "update 2 allies rally to olmert before war report\n",
      "update 8 pressure off olmert after lebanon war report\n",
      "\n",
      "\n",
      "Top 5 headers cluster 3: \n",
      "\n",
      "refile update 3 toshiba to quit hd dvds ends format war\n",
      "analysis sony wins format war but real battle lies ahead\n",
      "update 2 toshiba says to quit hd dvd ending format war\n",
      "update 3 toshiba to quit hd dvds ends format war\n",
      "update 4 looming end to dvd war cheers consumers investors\n",
      "\n",
      "\n",
      "Top 5 headers cluster 4: \n",
      "\n",
      "sri lanka jets bomb rebels no end to war in sight\n",
      "interview food oil price rises worse than s lanka war\n",
      "war will not stop sri lanka development president\n",
      "analysis sri lanka ahead in war but don t write off rebels\n",
      "update 2 s lanka war seen escalating as truce declared dead\n",
      "\n",
      "\n",
      "Top 5 headers cluster 5: \n",
      "\n",
      "update 6 bush halts iraq troop cuts says war not endless \n",
      "update 7 bush halts iraq troop cuts says war not endless \n",
      "wrapup 1 clinton says iraq war may cost 1 trillion\n",
      "wrapup 2 clinton says we cannot win iraq war\n",
      "update 1 us presidential candidates mark iraq war anniversary\n",
      "\n",
      "\n",
      "Top 5 headers cluster 6: \n",
      "\n",
      "mexican gangs try to bribe army as drug war flares\n",
      "feuds envy fuelled deadly thai drug war rights body\n",
      "mexico gunmen target children in gruesome drug war\n",
      "mexico drug war opens bloody new front on us border\n",
      "update 3 mexico gunmen target children in drug war\n",
      "\n",
      "\n",
      "Top 5 headers cluster 7: \n",
      "\n",
      "iraq wrapup 1 dead in sadr bastion after open war threat\n",
      "iraq wrapup 2 rice in iraq after open war threat\n",
      "iraq wrapup 3 rice in iraq after sadr s open war threat\n",
      "iraq wrapup 4 rice in iraq after sadr s open war threat\n",
      "iraq will confront sadr not allow open war fm\n",
      "\n",
      "\n",
      "Top 5 headers cluster 8: \n",
      "\n",
      "update 1 islamic body wants israelis tried for war crimes\n",
      "update 4 seven palestinians die in gaza as olmert vows war \n",
      "islamic body wants israelis tried for war crimes\n",
      "update 2 five palestinians die in gaza as olmert vows war \n",
      "update 3 five palestinians die in gaza as olmert vows war \n",
      "\n",
      "\n",
      "Top 5 headers cluster 9: \n",
      "\n",
      "preview russian ties afghan war at stake for nato summit\n",
      "update 2 us military weighing if russia in cold war pose\n",
      "update 1 us military assessing if russia in cold war pose\n",
      "update 1 georgia says very close to war with russia\n",
      "update 2 georgia says very close to war with russia\n",
      "\n",
      "\n",
      "Top 5 headers cluster 10: \n",
      "\n",
      "update 1 uganda rebel lawyers to meet with war crimes court\n",
      "update 1 bangladesh commanders demand war crime trial\n",
      "bangladesh commanders demand war crime trial\n",
      "update 1 war crimes prosecutor won t meet uganda rebels\n",
      "uganda rebel lawyers to meet with war crimes court\n",
      "\n",
      "\n",
      "Top 5 headers cluster 11: \n",
      "\n",
      "feature u s soldiers help war against rebels in colombia\n",
      "feature u s soldiers help war against rebels in colombia\n",
      "wrapup 1 colombia rules out war as latin left forms front\n",
      "chavez says no military solution to war in colombia\n",
      "update 1 no risk of war with neighbours colombian official\n",
      "\n",
      "\n",
      "Top 5 headers cluster 12: \n",
      "\n",
      "iraq vet talk show pioneer pair for anti war film\n",
      "iraq vet talk show pioneer pair for anti war film\n",
      "war torture dominate tight oscar documentary race\n",
      "actor cusack aims to offend with war satire film\n",
      "islamist video reponds to dutch film war on terror\n",
      "\n",
      "\n"
     ]
    }
   ],
   "source": [
    "n_clusters=12\n",
    "def top_headers(km, n_clusters, tok, y_km, lis):\n",
    "    for j in range(0, n_clusters,1):\n",
    "        cluster_0 = np.where(y_km==j) \n",
    "        X_cluster_0 = tok[cluster_0]\n",
    "        distance= []\n",
    "        for i in range(0, X_cluster_0.A.shape[0]):\n",
    "            distance.append(euclidean(X_cluster_0.A[i], km.cluster_centers_[0]))    \n",
    "        pos = np.argsort(distance)\n",
    "        print 'Top 5 headers cluster %s: \\n' % (j+1)\n",
    "        for i in range(0,5,1):\n",
    "            print df.iloc[np.asarray(lis)[cluster_0],1].iloc[pos[i]] \n",
    "\n",
    "        print '\\n'\n",
    "        \n",
    "top_headers(km, n_clusters,tok,y_km,lis)"
   ]
  },
  {
   "cell_type": "code",
   "execution_count": 32,
   "metadata": {
    "collapsed": false
   },
   "outputs": [
    {
     "name": "stdout",
     "output_type": "stream",
     "text": [
      "Topic #0:\n",
      "iraq dvd id war bulldoz uncc warinc ntt perish american idea mccain smith budapest revolt thi hari said u us\n",
      "Topic #1:\n",
      "dvd blu ray hd toshiba id format soni technolog corp inc player warner sale definit studio disc stxnew electron lawson\n",
      "Topic #2:\n",
      "acr ang atmospher poison diseas ethnic colombia apiec hunger lat dope chalmer cleric colombian senecan gould nsp129226 gump 2bct sew\n",
      "Topic #3:\n",
      "farmer margin mugab 260 aden russia fitna 21st vener commun expir logjam eastern liabil zimbabwean russian migrant repriev state bibl\n",
      "Topic #4:\n",
      "significantli stand sadr ks margin smoothest drag mapenzauswa polisario air earn embezzl u elud mcconnel period magazin link ga hayaniya\n",
      "Topic #5:\n",
      "iraq war bush petraeu said u hi olmert reuter wa democrat kosovo sadr iran ha minist prime militari former mccain\n",
      "Topic #6:\n",
      "241 industri para well twitto shrapnel comparison commend oakland granddaught ahsoka pervez extrajudici ultra trick mekel cite schedul craig egypt\n",
      "Topic #7:\n",
      "said rebel blu kill war dvd percent ha wa lanka com sri reuter sinc govern right siril ray would tiger\n",
      "Topic #8:\n",
      "said war star wa former crime 1 reuter togbah iran gaza lanka olmert sith clone u impos nato albano luca\n",
      "Topic #9:\n",
      "saudi hotspur blitz sri strategi pumpkin foe special tiger anderson soldier algeria diplomat pure carat onli chasan war 2230 looter\n",
      "Topic #10:\n",
      "said war tyrol wa mackenzi sadr smallish italian underpin repetit lipoprotein gerrard slightli linger izvestia sixti boss covet nadim slow\n",
      "Topic #11:\n",
      "said war iraq reuter u wa ha hi govern year percent militari com rebel troop would thi report sadr bush\n",
      "()\n"
     ]
    }
   ],
   "source": [
    "def print_top_words(model, feature_names, n_top_words):\n",
    "    for topic_idx, topic in enumerate(model.components_):\n",
    "        print(\"Topic #%d:\" % topic_idx)\n",
    "        print(\" \".join([feature_names[i]\n",
    "                        for i in topic.argsort()[:-n_top_words - 1:-1]]))\n",
    "    print()\n",
    "    \n",
    "n_top_words = 20\n",
    "\n",
    "lda = LatentDirichletAllocation(n_topics=12, max_iter=40, learning_method='online', learning_offset=100.,\n",
    "                                random_state=0)\n",
    "lda.fit(tok)\n",
    "\n",
    "tf_feature_names = tfidf.get_feature_names()\n",
    "print_top_words(lda, tf_feature_names, n_top_words)"
   ]
  },
  {
   "cell_type": "code",
   "execution_count": null,
   "metadata": {
    "collapsed": false
   },
   "outputs": [],
   "source": []
  },
  {
   "cell_type": "code",
   "execution_count": null,
   "metadata": {
    "collapsed": true
   },
   "outputs": [],
   "source": []
  }
 ],
 "metadata": {
  "kernelspec": {
   "display_name": "Python 2",
   "language": "python",
   "name": "python2"
  },
  "language_info": {
   "codemirror_mode": {
    "name": "ipython",
    "version": 2
   },
   "file_extension": ".py",
   "mimetype": "text/x-python",
   "name": "python",
   "nbconvert_exporter": "python",
   "pygments_lexer": "ipython2",
   "version": "2.7.6"
  }
 },
 "nbformat": 4,
 "nbformat_minor": 0
}
